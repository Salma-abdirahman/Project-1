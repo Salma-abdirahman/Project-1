{
 "cells": [
  {
   "cell_type": "markdown",
   "id": "23846ba2",
   "metadata": {},
   "source": [
    "# Project 1: Global Warming – UK Greenhouse Gas Emissions"
   ]
  },
  {
   "cell_type": "markdown",
   "id": "623ecaca",
   "metadata": {},
   "source": [
    "## Final Analysis\n",
    "1. Write-up summarizes major findings and implications at a professional level\n",
    "2. Each question in the project proposal is answered with precise descriptions and findings\n",
    "3. Findings are strongly supported with numbers and visualizations \n",
    "4. Each question response is supported with a well-discerned statistical analysis from lessons (e.g., aggregation, correlation, comparison, summary statistics, sentiment analysis, and time series analysis)\n",
    "\n",
    "\n",
    "\n"
   ]
  },
  {
   "cell_type": "markdown",
   "id": "df9ff463",
   "metadata": {},
   "source": []
  },
  {
   "cell_type": "code",
   "execution_count": null,
   "id": "8c14d970",
   "metadata": {},
   "outputs": [],
   "source": [
    "# Dependencies and Setup\n",
    "\n",
    "# Study data files\n",
    "\n",
    "# Read the data\n",
    "\n",
    "# Combine the data into a single dataset\n",
    "\n",
    "# Display the data table for preview\n",
    "\n"
   ]
  },
  {
   "cell_type": "markdown",
   "id": "8cf8ce01",
   "metadata": {},
   "source": [
    "# Who, What, Where, When?"
   ]
  },
  {
   "cell_type": "code",
   "execution_count": null,
   "id": "96d6a3fc",
   "metadata": {},
   "outputs": [],
   "source": [
    "# Summary Statsistics"
   ]
  },
  {
   "cell_type": "code",
   "execution_count": null,
   "id": "c471bd46",
   "metadata": {},
   "outputs": [],
   "source": [
    "# Table & Bar Chart\n",
    "# Clear and accurate labeling of images\n",
    "# Visualizations supported with ample and precise explanation\n",
    "# Save image for presentation slides"
   ]
  },
  {
   "cell_type": "code",
   "execution_count": null,
   "id": "a479215c",
   "metadata": {},
   "outputs": [],
   "source": [
    "# Table & Pie Chart\n",
    "# Clear and accurate labeling of images\n",
    "# Visualizations supported with ample and precise explanation\n",
    "# Save image for presentation slides"
   ]
  },
  {
   "cell_type": "code",
   "execution_count": null,
   "id": "bd07a090",
   "metadata": {},
   "outputs": [],
   "source": [
    "# Table & Line Graph\n",
    "# Clear and accurate labeling of images\n",
    "# Visualizations supported with ample and precise explanation\n",
    "# Save image for presentation slides"
   ]
  },
  {
   "cell_type": "code",
   "execution_count": null,
   "id": "3f71ad18",
   "metadata": {},
   "outputs": [],
   "source": [
    "# Table & Scatter Graph\n",
    "# Clear and accurate labeling of images\n",
    "# Visualizations supported with ample and precise explanation\n",
    "# Save image for presentation slides"
   ]
  },
  {
   "cell_type": "code",
   "execution_count": null,
   "id": "1622ded0",
   "metadata": {},
   "outputs": [],
   "source": [
    "# Correlation\n",
    "# Clear and accurate labeling of images\n",
    "# Visualizations supported with ample and precise explanation\n",
    "# Save image for presentation slides"
   ]
  }
 ],
 "metadata": {
  "kernelspec": {
   "display_name": "Python 3.10.7 64-bit",
   "language": "python",
   "name": "python3"
  },
  "language_info": {
   "codemirror_mode": {
    "name": "ipython",
    "version": 3
   },
   "file_extension": ".py",
   "mimetype": "text/x-python",
   "name": "python",
   "nbconvert_exporter": "python",
   "pygments_lexer": "ipython3",
   "version": "3.10.7"
  },
  "vscode": {
   "interpreter": {
    "hash": "aee8b7b246df8f9039afb4144a1f6fd8d2ca17a180786b69acc140d282b71a49"
   }
  }
 },
 "nbformat": 4,
 "nbformat_minor": 5
}

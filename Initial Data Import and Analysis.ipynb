{
 "cells": [
  {
   "cell_type": "code",
   "execution_count": 2,
   "metadata": {},
   "outputs": [
    {
     "name": "stdout",
     "output_type": "stream",
     "text": [
      "<class 'pandas.core.frame.DataFrame'>\n",
      "Int64Index: 62514735 entries, 0 to 62514734\n",
      "Data columns (total 27 columns):\n",
      " #   Column                               Dtype  \n",
      "---  ------                               -----  \n",
      " 0   National Communication Category_x    object \n",
      " 1   National Communication Fuel_x        object \n",
      " 2   Measure type_x                       object \n",
      " 3   Greenhouse Gas Group_x               object \n",
      " 4   IPCC Code_x                          object \n",
      " 5   Year                                 int64  \n",
      " 6   National Communication Sub Sector_x  object \n",
      " 7   Greenhouse Gas_x                     object \n",
      " 8   Activity Name_x                      object \n",
      " 9   National Communication Fuel Group_x  object \n",
      " 10  Source_x                             object \n",
      " 11  National Communication Sector_x      object \n",
      " 12  Gas Emissions_x                      float64\n",
      " 13  Unit of Measure_x                    object \n",
      " 14  National Communication Sector_y      object \n",
      " 15  National Communication Fuel_y        object \n",
      " 16  IPCC Code_y                          object \n",
      " 17  National Communication Fuel Group_y  object \n",
      " 18  National Communication Category_y    object \n",
      " 19  National Communication Sub Sector_y  object \n",
      " 20  Source_y                             object \n",
      " 21  Greenhouse Gas Group_y               object \n",
      " 22  Greenhouse Gas_y                     object \n",
      " 23  Measure type_y                       object \n",
      " 24  Activity Name_y                      object \n",
      " 25  Gas Emissions_y                      float64\n",
      " 26  Unit of Measure_y                    object \n",
      "dtypes: float64(2), int64(1), object(24)\n",
      "memory usage: 13.0+ GB\n"
     ]
    }
   ],
   "source": [
    "# Dependencies and Setup\n",
    "import matplotlib.pyplot as plt\n",
    "import pandas as pd\n",
    "import scipy.stats as st\n",
    "import numpy as np\n",
    "\n",
    "# Study data files\n",
    "\n",
    "emissions_source_path = \"Resources/by-end-user/data.csv\"\n",
    "\n",
    "emissions_user_path = \"Resources/emissions-by-source/data.csv\"\n",
    "\n",
    "# Read the data and the study results\n",
    "emissions_source = pd.read_csv(emissions_source_path)\n",
    "user_source = pd.read_csv(emissions_user_path)\n",
    "\n",
    "# Combine the data into a single dataset\n",
    "\n",
    "data_df = pd.merge(emissions_source, user_source, how = 'outer', on='Year')\n",
    "data_df.info()\n",
    "# Display the data table for preview"
   ]
  },
  {
   "cell_type": "code",
   "execution_count": 3,
   "metadata": {},
   "outputs": [
    {
     "name": "stdout",
     "output_type": "stream",
     "text": [
      "<class 'pandas.core.frame.DataFrame'>\n",
      "RangeIndex: 41508 entries, 0 to 41507\n",
      "Data columns (total 14 columns):\n",
      " #   Column                             Non-Null Count  Dtype  \n",
      "---  ------                             --------------  -----  \n",
      " 0   National Communication Category    41508 non-null  object \n",
      " 1   National Communication Fuel        41508 non-null  object \n",
      " 2   Measure type                       41508 non-null  object \n",
      " 3   Greenhouse Gas Group               41508 non-null  object \n",
      " 4   IPCC Code                          41508 non-null  object \n",
      " 5   Year                               41508 non-null  int64  \n",
      " 6   National Communication Sub Sector  41508 non-null  object \n",
      " 7   Greenhouse Gas                     41508 non-null  object \n",
      " 8   Activity Name                      41508 non-null  object \n",
      " 9   National Communication Fuel Group  41508 non-null  object \n",
      " 10  Source                             41508 non-null  object \n",
      " 11  National Communication Sector      41508 non-null  object \n",
      " 12  Gas Emissions                      41508 non-null  float64\n",
      " 13  Unit of Measure                    41508 non-null  object \n",
      "dtypes: float64(1), int64(1), object(12)\n",
      "memory usage: 4.4+ MB\n"
     ]
    },
    {
     "data": {
      "text/plain": [
       "array([2017, 2006, 2005, 2001, 1991, 1995, 1990, 2008, 2013, 1994, 1998,\n",
       "       2016, 2018, 1999, 2012, 1996, 2010, 1993, 2003, 1992, 2007, 2002,\n",
       "       2019, 1997, 2009, 2015, 2000, 2004, 2014, 2011], dtype=int64)"
      ]
     },
     "execution_count": 3,
     "metadata": {},
     "output_type": "execute_result"
    }
   ],
   "source": [
    "# analyse data\n",
    "\n",
    "emissions_source.info()\n",
    "emissions_source.head()\n",
    "emissions_source[\"Year\"].unique()"
   ]
  },
  {
   "cell_type": "code",
   "execution_count": 4,
   "metadata": {},
   "outputs": [
    {
     "name": "stdout",
     "output_type": "stream",
     "text": [
      "<class 'pandas.core.frame.DataFrame'>\n",
      "RangeIndex: 44838 entries, 0 to 44837\n",
      "Data columns (total 14 columns):\n",
      " #   Column                             Non-Null Count  Dtype  \n",
      "---  ------                             --------------  -----  \n",
      " 0   National Communication Sector      44838 non-null  object \n",
      " 1   National Communication Fuel        44838 non-null  object \n",
      " 2   IPCC Code                          44838 non-null  object \n",
      " 3   National Communication Fuel Group  44838 non-null  object \n",
      " 4   National Communication Category    44838 non-null  object \n",
      " 5   National Communication Sub Sector  44838 non-null  object \n",
      " 6   Source                             44838 non-null  object \n",
      " 7   Greenhouse Gas Group               44838 non-null  object \n",
      " 8   Greenhouse Gas                     44838 non-null  object \n",
      " 9   Measure type                       44838 non-null  object \n",
      " 10  Activity Name                      44838 non-null  object \n",
      " 11  Year                               44838 non-null  int64  \n",
      " 12  Gas Emissions                      44838 non-null  float64\n",
      " 13  Unit of Measure                    44838 non-null  object \n",
      "dtypes: float64(1), int64(1), object(12)\n",
      "memory usage: 4.8+ MB\n"
     ]
    },
    {
     "data": {
      "text/plain": [
       "array([1993, 1995, 1999, 2001, 1996, 1997, 1998, 2002, 1990, 1992, 2003,\n",
       "       1994, 2000, 1991, 2004, 2011, 2014, 2012, 2005, 2010, 2016, 2008,\n",
       "       2009, 2007, 2006, 2013, 2015, 2017, 2018, 2019], dtype=int64)"
      ]
     },
     "execution_count": 4,
     "metadata": {},
     "output_type": "execute_result"
    }
   ],
   "source": [
    "# analyse data\n",
    "user_source.info()\n",
    "user_source.head()\n",
    "user_source[\"Year\"].unique()"
   ]
  },
  {
   "cell_type": "code",
   "execution_count": null,
   "metadata": {},
   "outputs": [],
   "source": []
  }
 ],
 "metadata": {
  "kernelspec": {
   "display_name": "Python 3.9.12 ('base')",
   "language": "python",
   "name": "python3"
  },
  "language_info": {
   "codemirror_mode": {
    "name": "ipython",
    "version": 3
   },
   "file_extension": ".py",
   "mimetype": "text/x-python",
   "name": "python",
   "nbconvert_exporter": "python",
   "pygments_lexer": "ipython3",
   "version": "3.9.12"
  },
  "orig_nbformat": 4,
  "vscode": {
   "interpreter": {
    "hash": "0c2f2163de129df748b3ca17a3b9b870bccda33da4ba3ead529771aa00d6267b"
   }
  }
 },
 "nbformat": 4,
 "nbformat_minor": 2
}
